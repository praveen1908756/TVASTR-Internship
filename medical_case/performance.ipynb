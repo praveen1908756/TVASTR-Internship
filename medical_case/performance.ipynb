{
 "cells": [
  {
   "cell_type": "code",
   "execution_count": 1,
   "metadata": {},
   "outputs": [
    {
     "name": "stdout",
     "output_type": "stream",
     "text": [
      "importing Jupyter notebook from load_data.ipynb\n",
      "importing Jupyter notebook from random_forest_model.ipynb\n",
      "importing Jupyter notebook from preprocess.ipynb\n",
      "Logistic Regression: 0.897170 \n",
      "Decision Tree: 0.916683 \n",
      "RandomForest: 0.940205 \n",
      "SVC: 0.906594 \n"
     ]
    }
   ],
   "source": [
    "import import_ipynb\n",
    "import load_data\n",
    "import random_forest_model"
   ]
  },
  {
   "cell_type": "code",
   "execution_count": 2,
   "metadata": {},
   "outputs": [
    {
     "name": "stdout",
     "output_type": "stream",
     "text": [
      "********* Random Forest Results *********\n",
      "Accuracy    :  0.9435736677115988\n",
      "Recall      :  0.9435736677115988\n",
      "Precision   :  0.9425674738802717\n",
      "F1 Score    :  0.9435736677115988\n"
     ]
    }
   ],
   "source": [
    "acccuracy = load_data.accuracy_score(random_forest_model.y_test, random_forest_model.predictions)\n",
    "recall = load_data.recall_score(random_forest_model.y_test, random_forest_model.predictions, average=\"weighted\")\n",
    "precision = load_data.precision_score(random_forest_model.y_test, random_forest_model.predictions, average=\"weighted\")\n",
    "f1_score = load_data.f1_score(random_forest_model.y_test, random_forest_model.predictions, average=\"micro\")\n",
    "\n",
    "print(\"********* Random Forest Results *********\")\n",
    "print(\"Accuracy    : \", acccuracy)\n",
    "print(\"Recall      : \", recall)\n",
    "print(\"Precision   : \", precision)\n",
    "print(\"F1 Score    : \", f1_score)"
   ]
  },
  {
   "cell_type": "code",
   "execution_count": 3,
   "metadata": {},
   "outputs": [
    {
     "name": "stdout",
     "output_type": "stream",
     "text": [
      "              precision    recall  f1-score   support\n",
      "\n",
      "         1.0       0.95      0.98      0.97       496\n",
      "         2.0       0.91      0.76      0.83       101\n",
      "         3.0       0.88      0.93      0.90        41\n",
      "\n",
      "    accuracy                           0.94       638\n",
      "   macro avg       0.91      0.89      0.90       638\n",
      "weighted avg       0.94      0.94      0.94       638\n",
      "\n"
     ]
    }
   ],
   "source": [
    "print(load_data.classification_report(random_forest_model.y_test, random_forest_model.predictions))"
   ]
  }
 ],
 "metadata": {
  "kernelspec": {
   "display_name": "Python 3.10.0 64-bit",
   "language": "python",
   "name": "python3"
  },
  "language_info": {
   "codemirror_mode": {
    "name": "ipython",
    "version": 3
   },
   "file_extension": ".py",
   "mimetype": "text/x-python",
   "name": "python",
   "nbconvert_exporter": "python",
   "pygments_lexer": "ipython3",
   "version": "3.10.0"
  },
  "orig_nbformat": 4,
  "vscode": {
   "interpreter": {
    "hash": "4ba3bdfc9cabfb39c224c1aca23919476133c165e34e27a288d907cb258ba46b"
   }
  }
 },
 "nbformat": 4,
 "nbformat_minor": 2
}
