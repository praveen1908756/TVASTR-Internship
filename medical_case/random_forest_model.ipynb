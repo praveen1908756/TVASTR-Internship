{
 "cells": [
  {
   "cell_type": "code",
   "execution_count": 1,
   "metadata": {},
   "outputs": [
    {
     "name": "stdout",
     "output_type": "stream",
     "text": [
      "importing Jupyter notebook from preprocess.ipynb\n",
      "importing Jupyter notebook from load_data.ipynb\n"
     ]
    }
   ],
   "source": [
    "import import_ipynb\n",
    "import preprocess\n",
    "import load_data"
   ]
  },
  {
   "cell_type": "code",
   "execution_count": 2,
   "metadata": {},
   "outputs": [],
   "source": [
    "#spliting test and training sets\n",
    "X_train, X_test, y_train,y_test = load_data.train_test_split(preprocess.X_df,preprocess.y,test_size=0.3,random_state=42)"
   ]
  },
  {
   "cell_type": "code",
   "execution_count": 3,
   "metadata": {},
   "outputs": [
    {
     "name": "stdout",
     "output_type": "stream",
     "text": [
      "Logistic Regression: 0.897170 \n",
      "Decision Tree: 0.916683 \n",
      "RandomForest: 0.940205 \n",
      "SVC: 0.906594 \n"
     ]
    }
   ],
   "source": [
    "#A quick model selection process\n",
    "#pipelines of models( it is short was to fit and pred)\n",
    "pipeline_lr=load_data.Pipeline([('lr_classifier',load_data.LogisticRegression(random_state=42))])\n",
    "\n",
    "pipeline_dt=load_data.Pipeline([ ('dt_classifier',load_data.DecisionTreeClassifier(random_state=42))])\n",
    "\n",
    "pipeline_rf=load_data.Pipeline([('rf_classifier',load_data.RandomForestClassifier())])\n",
    "\n",
    "pipeline_svc=load_data.Pipeline([('sv_classifier',load_data.SVC())])\n",
    "\n",
    "# List of all the pipelines\n",
    "pipelines = [pipeline_lr, pipeline_dt, pipeline_rf, pipeline_svc]\n",
    "\n",
    "# Dictionary of pipelines and classifier types for ease of reference\n",
    "pipe_dict = {0: 'Logistic Regression', 1: 'Decision Tree', 2: 'RandomForest', 3: \"SVC\"}\n",
    "\n",
    "\n",
    "# Fit the pipelines\n",
    "for pipe in pipelines:\n",
    "    pipe.fit(X_train, y_train)\n",
    "\n",
    "#cross validation on accuracy \n",
    "cv_results_accuracy = []\n",
    "for i, model in enumerate(pipelines):\n",
    "    cv_score = load_data.cross_val_score(model, X_train,y_train, cv=10 )\n",
    "    cv_results_accuracy.append(cv_score)\n",
    "    print(\"%s: %f \" % (pipe_dict[i], cv_score.mean()))"
   ]
  },
  {
   "cell_type": "code",
   "execution_count": 4,
   "metadata": {},
   "outputs": [
    {
     "data": {
      "text/plain": [
       "0.9435736677115988"
      ]
     },
     "execution_count": 4,
     "metadata": {},
     "output_type": "execute_result"
    }
   ],
   "source": [
    "RF_model = load_data.RandomForestClassifier()\n",
    "RF_model.fit(X_train, y_train)\n",
    "#Testing the Model on test set\n",
    "predictions=RF_model.predict(X_test)\n",
    "acccuracy= load_data.accuracy_score(y_test,predictions)\n",
    "acccuracy"
   ]
  }
 ],
 "metadata": {
  "kernelspec": {
   "display_name": "Python 3.10.0 64-bit",
   "language": "python",
   "name": "python3"
  },
  "language_info": {
   "codemirror_mode": {
    "name": "ipython",
    "version": 3
   },
   "file_extension": ".py",
   "mimetype": "text/x-python",
   "name": "python",
   "nbconvert_exporter": "python",
   "pygments_lexer": "ipython3",
   "version": "3.10.0"
  },
  "orig_nbformat": 4,
  "vscode": {
   "interpreter": {
    "hash": "4ba3bdfc9cabfb39c224c1aca23919476133c165e34e27a288d907cb258ba46b"
   }
  }
 },
 "nbformat": 4,
 "nbformat_minor": 2
}
