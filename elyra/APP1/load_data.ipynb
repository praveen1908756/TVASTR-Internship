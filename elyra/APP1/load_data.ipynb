{
 "cells": [
  {
   "cell_type": "code",
   "execution_count": 1,
   "id": "chicken-reader",
   "metadata": {
    "execution": {
     "iopub.execute_input": "2022-07-02T17:06:31.229175Z",
     "iopub.status.busy": "2022-07-02T17:06:31.228277Z",
     "iopub.status.idle": "2022-07-02T17:06:31.254898Z",
     "shell.execute_reply": "2022-07-02T17:06:31.255262Z"
    },
    "papermill": {
     "duration": 0.035917,
     "end_time": "2022-07-02T17:06:31.255467",
     "exception": false,
     "start_time": "2022-07-02T17:06:31.219550",
     "status": "completed"
    },
    "tags": []
   },
   "outputs": [],
   "source": [
    "weight = open(\"weight_APP1.txt\",\"r\")\n",
    "data_weight = weight.readlines()"
   ]
  },
  {
   "cell_type": "code",
   "execution_count": 2,
   "id": "eight-quebec",
   "metadata": {
    "execution": {
     "iopub.execute_input": "2022-07-02T17:06:31.279786Z",
     "iopub.status.busy": "2022-07-02T17:06:31.264041Z",
     "iopub.status.idle": "2022-07-02T17:06:31.289044Z",
     "shell.execute_reply": "2022-07-02T17:06:31.288667Z"
    },
    "papermill": {
     "duration": 0.031199,
     "end_time": "2022-07-02T17:06:31.289144",
     "exception": false,
     "start_time": "2022-07-02T17:06:31.257945",
     "status": "completed"
    },
    "tags": []
   },
   "outputs": [],
   "source": [
    "template_id = open(\"template_id.txt\", \"r\")\n",
    "l = template_id.readlines()"
   ]
  },
  {
   "cell_type": "code",
   "execution_count": null,
   "id": "unexpected-horse",
   "metadata": {
    "papermill": {
     "duration": 0.002087,
     "end_time": "2022-07-02T17:06:31.293471",
     "exception": false,
     "start_time": "2022-07-02T17:06:31.291384",
     "status": "completed"
    },
    "tags": []
   },
   "outputs": [],
   "source": []
  }
 ],
 "metadata": {
  "kernelspec": {
   "display_name": "Python 3.10.0 64-bit",
   "language": "python",
   "name": "python3"
  },
  "language_info": {
   "codemirror_mode": {
    "name": "ipython",
    "version": 3
   },
   "file_extension": ".py",
   "mimetype": "text/x-python",
   "name": "python",
   "nbconvert_exporter": "python",
   "pygments_lexer": "ipython3",
   "version": "3.10.0"
  },
  "papermill": {
   "default_parameters": {},
   "duration": 1.713094,
   "end_time": "2022-07-02T17:06:31.602332",
   "environment_variables": {},
   "exception": null,
   "input_path": "/home/jovyan/load_data.ipynb",
   "output_path": "/home/jovyan/load_data.ipynb",
   "parameters": {},
   "start_time": "2022-07-02T17:06:29.889238",
   "version": "2.3.3"
  },
  "vscode": {
   "interpreter": {
    "hash": "4ba3bdfc9cabfb39c224c1aca23919476133c165e34e27a288d907cb258ba46b"
   }
  }
 },
 "nbformat": 4,
 "nbformat_minor": 5
}
