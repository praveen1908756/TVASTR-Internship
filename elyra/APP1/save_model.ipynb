{
 "cells": [
  {
   "cell_type": "code",
   "execution_count": 1,
   "id": "macro-screen",
   "metadata": {
    "collapsed": true,
    "execution": {
     "iopub.execute_input": "2022-07-02T17:08:25.730771Z",
     "iopub.status.busy": "2022-07-02T17:08:25.730047Z",
     "iopub.status.idle": "2022-07-02T17:09:23.877155Z",
     "shell.execute_reply": "2022-07-02T17:09:23.877517Z"
    },
    "jupyter": {
     "outputs_hidden": true
    },
    "papermill": {
     "duration": 58.156994,
     "end_time": "2022-07-02T17:09:23.877742",
     "exception": false,
     "start_time": "2022-07-02T17:08:25.720748",
     "status": "completed"
    },
    "tags": []
   },
   "outputs": [
    {
     "name": "stdout",
     "output_type": "stream",
     "text": [
      "importing Jupyter notebook from performance_of_model.ipynb\n",
      "importing Jupyter notebook from random_forest_model.ipynb\n",
      "importing Jupyter notebook from process_data.ipynb\n",
      "importing Jupyter notebook from load_data.ipynb\n"
     ]
    }
   ],
   "source": [
    "import import_ipynb\n",
    "import random_forest_model"
   ]
  },
  {
   "cell_type": "code",
   "execution_count": 2,
   "id": "determined-prior",
   "metadata": {
    "execution": {
     "iopub.execute_input": "2022-07-02T17:09:23.887562Z",
     "iopub.status.busy": "2022-07-02T17:09:23.887118Z",
     "iopub.status.idle": "2022-07-02T17:09:23.888900Z",
     "shell.execute_reply": "2022-07-02T17:09:23.889233Z"
    },
    "papermill": {
     "duration": 0.008219,
     "end_time": "2022-07-02T17:09:23.889379",
     "exception": false,
     "start_time": "2022-07-02T17:09:23.881160",
     "status": "completed"
    },
    "tags": []
   },
   "outputs": [],
   "source": [
    "from joblib import dump"
   ]
  },
  {
   "cell_type": "code",
   "execution_count": 5,
   "id": "confident-render",
   "metadata": {
    "collapsed": true,
    "execution": {
     "iopub.execute_input": "2022-07-02T17:09:23.898771Z",
     "iopub.status.busy": "2022-07-02T17:09:23.898128Z",
     "iopub.status.idle": "2022-07-02T17:09:24.012678Z",
     "shell.execute_reply": "2022-07-02T17:09:24.011764Z"
    },
    "jupyter": {
     "outputs_hidden": true
    },
    "papermill": {
     "duration": 0.120347,
     "end_time": "2022-07-02T17:09:24.012919",
     "exception": true,
     "start_time": "2022-07-02T17:09:23.892572",
     "status": "failed"
    },
    "tags": []
   },
   "outputs": [
    {
     "data": {
      "text/plain": [
       "['APP1.joblib']"
      ]
     },
     "execution_count": 5,
     "metadata": {},
     "output_type": "execute_result"
    }
   ],
   "source": [
    "dump(random_forest_model.clf, 'APP1.joblib')"
   ]
  }
 ],
 "metadata": {
  "kernelspec": {
   "display_name": "Python 3.10.0 64-bit",
   "language": "python",
   "name": "python3"
  },
  "language_info": {
   "codemirror_mode": {
    "name": "ipython",
    "version": 3
   },
   "file_extension": ".py",
   "mimetype": "text/x-python",
   "name": "python",
   "nbconvert_exporter": "python",
   "pygments_lexer": "ipython3",
   "version": "3.10.0"
  },
  "papermill": {
   "default_parameters": {},
   "duration": 59.827453,
   "end_time": "2022-07-02T17:09:24.623761",
   "environment_variables": {},
   "exception": true,
   "input_path": "/home/jovyan/save_model.ipynb",
   "output_path": "/home/jovyan/save_model.ipynb",
   "parameters": {},
   "start_time": "2022-07-02T17:08:24.796308",
   "version": "2.3.3"
  },
  "vscode": {
   "interpreter": {
    "hash": "4ba3bdfc9cabfb39c224c1aca23919476133c165e34e27a288d907cb258ba46b"
   }
  }
 },
 "nbformat": 4,
 "nbformat_minor": 5
}
