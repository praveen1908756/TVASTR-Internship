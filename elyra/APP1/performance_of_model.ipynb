{
 "cells": [
  {
   "cell_type": "code",
   "execution_count": 1,
   "id": "promotional-watts",
   "metadata": {
    "execution": {
     "iopub.execute_input": "2022-07-02T17:07:23.619284Z",
     "iopub.status.busy": "2022-07-02T17:07:23.618832Z",
     "iopub.status.idle": "2022-07-02T17:08:12.081731Z",
     "shell.execute_reply": "2022-07-02T17:08:12.082172Z"
    },
    "papermill": {
     "duration": 48.473328,
     "end_time": "2022-07-02T17:08:12.082421",
     "exception": false,
     "start_time": "2022-07-02T17:07:23.609093",
     "status": "completed"
    },
    "tags": []
   },
   "outputs": [
    {
     "name": "stdout",
     "output_type": "stream",
     "text": [
      "importing Jupyter notebook from random_forest_model.ipynb\n",
      "importing Jupyter notebook from process_data.ipynb\n",
      "importing Jupyter notebook from load_data.ipynb\n"
     ]
    }
   ],
   "source": [
    "import import_ipynb\n",
    "import random_forest_model"
   ]
  },
  {
   "cell_type": "code",
   "execution_count": 2,
   "id": "optional-steal",
   "metadata": {
    "execution": {
     "iopub.execute_input": "2022-07-02T17:08:12.093321Z",
     "iopub.status.busy": "2022-07-02T17:08:12.092798Z",
     "iopub.status.idle": "2022-07-02T17:08:12.094988Z",
     "shell.execute_reply": "2022-07-02T17:08:12.094605Z"
    },
    "papermill": {
     "duration": 0.00857,
     "end_time": "2022-07-02T17:08:12.095085",
     "exception": false,
     "start_time": "2022-07-02T17:08:12.086515",
     "status": "completed"
    },
    "tags": []
   },
   "outputs": [],
   "source": [
    "from sklearn.metrics import confusion_matrix"
   ]
  },
  {
   "cell_type": "code",
   "execution_count": 3,
   "id": "serial-jersey",
   "metadata": {
    "execution": {
     "iopub.execute_input": "2022-07-02T17:08:12.105185Z",
     "iopub.status.busy": "2022-07-02T17:08:12.104435Z",
     "iopub.status.idle": "2022-07-02T17:08:12.120640Z",
     "shell.execute_reply": "2022-07-02T17:08:12.120975Z"
    },
    "papermill": {
     "duration": 0.022523,
     "end_time": "2022-07-02T17:08:12.121098",
     "exception": false,
     "start_time": "2022-07-02T17:08:12.098575",
     "status": "completed"
    },
    "tags": []
   },
   "outputs": [
    {
     "data": {
      "text/plain": [
       "array([-1, -1, -1, -1, -1, -1, -1, -1, -1, -1])"
      ]
     },
     "execution_count": 3,
     "metadata": {},
     "output_type": "execute_result"
    }
   ],
   "source": [
    "random_forest_model.clf.predict(random_forest_model.x_data[:10])"
   ]
  },
  {
   "cell_type": "code",
   "execution_count": 4,
   "id": "resident-university",
   "metadata": {
    "execution": {
     "iopub.execute_input": "2022-07-02T17:08:12.632775Z",
     "iopub.status.busy": "2022-07-02T17:08:12.632305Z",
     "iopub.status.idle": "2022-07-02T17:08:23.395580Z",
     "shell.execute_reply": "2022-07-02T17:08:23.395918Z"
    },
    "papermill": {
     "duration": 11.270951,
     "end_time": "2022-07-02T17:08:23.396049",
     "exception": false,
     "start_time": "2022-07-02T17:08:12.125098",
     "status": "completed"
    },
    "tags": []
   },
   "outputs": [
    {
     "data": {
      "text/plain": [
       "array([[281918,    374],\n",
       "       [  4942,  18941]], dtype=int64)"
      ]
     },
     "execution_count": 4,
     "metadata": {},
     "output_type": "execute_result"
    }
   ],
   "source": [
    "confusion_matrix(random_forest_model.y_data, random_forest_model.clf.predict(random_forest_model.x_data))"
   ]
  },
  {
   "cell_type": "code",
   "execution_count": null,
   "id": "handed-nature",
   "metadata": {
    "papermill": {
     "duration": 0.0039,
     "end_time": "2022-07-02T17:08:23.403932",
     "exception": false,
     "start_time": "2022-07-02T17:08:23.400032",
     "status": "completed"
    },
    "tags": []
   },
   "outputs": [],
   "source": []
  }
 ],
 "metadata": {
  "kernelspec": {
   "display_name": "Python 3.10.0 64-bit",
   "language": "python",
   "name": "python3"
  },
  "language_info": {
   "codemirror_mode": {
    "name": "ipython",
    "version": 3
   },
   "file_extension": ".py",
   "mimetype": "text/x-python",
   "name": "python",
   "nbconvert_exporter": "python",
   "pygments_lexer": "ipython3",
   "version": "3.10.0"
  },
  "papermill": {
   "default_parameters": {},
   "duration": 62.065747,
   "end_time": "2022-07-02T17:08:24.782738",
   "environment_variables": {},
   "exception": null,
   "input_path": "/home/jovyan/performance_of_model.ipynb",
   "output_path": "/home/jovyan/performance_of_model.ipynb",
   "parameters": {},
   "start_time": "2022-07-02T17:07:22.716991",
   "version": "2.3.3"
  },
  "vscode": {
   "interpreter": {
    "hash": "4ba3bdfc9cabfb39c224c1aca23919476133c165e34e27a288d907cb258ba46b"
   }
  }
 },
 "nbformat": 4,
 "nbformat_minor": 5
}
