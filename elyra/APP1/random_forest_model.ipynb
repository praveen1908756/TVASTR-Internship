{
 "cells": [
  {
   "cell_type": "code",
   "execution_count": 1,
   "id": "about-milan",
   "metadata": {
    "execution": {
     "iopub.execute_input": "2022-07-02T17:06:35.695815Z",
     "iopub.status.busy": "2022-07-02T17:06:35.695298Z",
     "iopub.status.idle": "2022-07-02T17:06:37.211202Z",
     "shell.execute_reply": "2022-07-02T17:06:37.211590Z"
    },
    "papermill": {
     "duration": 1.529632,
     "end_time": "2022-07-02T17:06:37.211786",
     "exception": false,
     "start_time": "2022-07-02T17:06:35.682154",
     "status": "completed"
    },
    "tags": []
   },
   "outputs": [
    {
     "name": "stdout",
     "output_type": "stream",
     "text": [
      "importing Jupyter notebook from process_data.ipynb\n",
      "importing Jupyter notebook from load_data.ipynb\n"
     ]
    }
   ],
   "source": [
    "import import_ipynb\n",
    "import process_data\n",
    "import load_data"
   ]
  },
  {
   "cell_type": "code",
   "execution_count": 2,
   "id": "introductory-plastic",
   "metadata": {
    "execution": {
     "iopub.execute_input": "2022-07-02T17:06:37.224500Z",
     "iopub.status.busy": "2022-07-02T17:06:37.223780Z",
     "iopub.status.idle": "2022-07-02T17:06:38.277015Z",
     "shell.execute_reply": "2022-07-02T17:06:38.277389Z"
    },
    "papermill": {
     "duration": 1.06105,
     "end_time": "2022-07-02T17:06:38.277527",
     "exception": false,
     "start_time": "2022-07-02T17:06:37.216477",
     "status": "completed"
    },
    "tags": []
   },
   "outputs": [],
   "source": [
    "from sklearn.ensemble import RandomForestClassifier\n",
    "import numpy as np"
   ]
  },
  {
   "cell_type": "code",
   "execution_count": 3,
   "id": "portable-frame",
   "metadata": {
    "execution": {
     "iopub.execute_input": "2022-07-02T17:06:38.290697Z",
     "iopub.status.busy": "2022-07-02T17:06:38.290107Z",
     "iopub.status.idle": "2022-07-02T17:06:38.292358Z",
     "shell.execute_reply": "2022-07-02T17:06:38.291903Z"
    },
    "papermill": {
     "duration": 0.009936,
     "end_time": "2022-07-02T17:06:38.292460",
     "exception": false,
     "start_time": "2022-07-02T17:06:38.282524",
     "status": "completed"
    },
    "tags": []
   },
   "outputs": [],
   "source": [
    "clf = RandomForestClassifier()"
   ]
  },
  {
   "cell_type": "code",
   "execution_count": 4,
   "id": "other-hygiene",
   "metadata": {
    "execution": {
     "iopub.execute_input": "2022-07-02T17:06:38.303958Z",
     "iopub.status.busy": "2022-07-02T17:06:38.303541Z",
     "iopub.status.idle": "2022-07-02T17:06:38.305673Z",
     "shell.execute_reply": "2022-07-02T17:06:38.305257Z"
    },
    "papermill": {
     "duration": 0.009087,
     "end_time": "2022-07-02T17:06:38.305767",
     "exception": false,
     "start_time": "2022-07-02T17:06:38.296680",
     "status": "completed"
    },
    "tags": []
   },
   "outputs": [],
   "source": [
    "x_data = process_data.lines"
   ]
  },
  {
   "cell_type": "code",
   "execution_count": 5,
   "id": "leading-arbitration",
   "metadata": {
    "execution": {
     "iopub.execute_input": "2022-07-02T17:06:38.381087Z",
     "iopub.status.busy": "2022-07-02T17:06:38.380434Z",
     "iopub.status.idle": "2022-07-02T17:06:38.382838Z",
     "shell.execute_reply": "2022-07-02T17:06:38.382239Z"
    },
    "papermill": {
     "duration": 0.072975,
     "end_time": "2022-07-02T17:06:38.382982",
     "exception": false,
     "start_time": "2022-07-02T17:06:38.310007",
     "status": "completed"
    },
    "tags": []
   },
   "outputs": [],
   "source": [
    "y_data = np.array(load_data.data_weight)"
   ]
  },
  {
   "cell_type": "code",
   "execution_count": 6,
   "id": "valued-belle",
   "metadata": {
    "execution": {
     "iopub.execute_input": "2022-07-02T17:06:38.879543Z",
     "iopub.status.busy": "2022-07-02T17:06:38.878819Z",
     "iopub.status.idle": "2022-07-02T17:07:22.079123Z",
     "shell.execute_reply": "2022-07-02T17:07:22.079512Z"
    },
    "papermill": {
     "duration": 43.691976,
     "end_time": "2022-07-02T17:07:22.079648",
     "exception": false,
     "start_time": "2022-07-02T17:06:38.387672",
     "status": "completed"
    },
    "tags": []
   },
   "outputs": [
    {
     "data": {
      "text/html": [
       "<style>#sk-container-id-1 {color: black;background-color: white;}#sk-container-id-1 pre{padding: 0;}#sk-container-id-1 div.sk-toggleable {background-color: white;}#sk-container-id-1 label.sk-toggleable__label {cursor: pointer;display: block;width: 100%;margin-bottom: 0;padding: 0.3em;box-sizing: border-box;text-align: center;}#sk-container-id-1 label.sk-toggleable__label-arrow:before {content: \"▸\";float: left;margin-right: 0.25em;color: #696969;}#sk-container-id-1 label.sk-toggleable__label-arrow:hover:before {color: black;}#sk-container-id-1 div.sk-estimator:hover label.sk-toggleable__label-arrow:before {color: black;}#sk-container-id-1 div.sk-toggleable__content {max-height: 0;max-width: 0;overflow: hidden;text-align: left;background-color: #f0f8ff;}#sk-container-id-1 div.sk-toggleable__content pre {margin: 0.2em;color: black;border-radius: 0.25em;background-color: #f0f8ff;}#sk-container-id-1 input.sk-toggleable__control:checked~div.sk-toggleable__content {max-height: 200px;max-width: 100%;overflow: auto;}#sk-container-id-1 input.sk-toggleable__control:checked~label.sk-toggleable__label-arrow:before {content: \"▾\";}#sk-container-id-1 div.sk-estimator input.sk-toggleable__control:checked~label.sk-toggleable__label {background-color: #d4ebff;}#sk-container-id-1 div.sk-label input.sk-toggleable__control:checked~label.sk-toggleable__label {background-color: #d4ebff;}#sk-container-id-1 input.sk-hidden--visually {border: 0;clip: rect(1px 1px 1px 1px);clip: rect(1px, 1px, 1px, 1px);height: 1px;margin: -1px;overflow: hidden;padding: 0;position: absolute;width: 1px;}#sk-container-id-1 div.sk-estimator {font-family: monospace;background-color: #f0f8ff;border: 1px dotted black;border-radius: 0.25em;box-sizing: border-box;margin-bottom: 0.5em;}#sk-container-id-1 div.sk-estimator:hover {background-color: #d4ebff;}#sk-container-id-1 div.sk-parallel-item::after {content: \"\";width: 100%;border-bottom: 1px solid gray;flex-grow: 1;}#sk-container-id-1 div.sk-label:hover label.sk-toggleable__label {background-color: #d4ebff;}#sk-container-id-1 div.sk-serial::before {content: \"\";position: absolute;border-left: 1px solid gray;box-sizing: border-box;top: 0;bottom: 0;left: 50%;z-index: 0;}#sk-container-id-1 div.sk-serial {display: flex;flex-direction: column;align-items: center;background-color: white;padding-right: 0.2em;padding-left: 0.2em;position: relative;}#sk-container-id-1 div.sk-item {position: relative;z-index: 1;}#sk-container-id-1 div.sk-parallel {display: flex;align-items: stretch;justify-content: center;background-color: white;position: relative;}#sk-container-id-1 div.sk-item::before, #sk-container-id-1 div.sk-parallel-item::before {content: \"\";position: absolute;border-left: 1px solid gray;box-sizing: border-box;top: 0;bottom: 0;left: 50%;z-index: -1;}#sk-container-id-1 div.sk-parallel-item {display: flex;flex-direction: column;z-index: 1;position: relative;background-color: white;}#sk-container-id-1 div.sk-parallel-item:first-child::after {align-self: flex-end;width: 50%;}#sk-container-id-1 div.sk-parallel-item:last-child::after {align-self: flex-start;width: 50%;}#sk-container-id-1 div.sk-parallel-item:only-child::after {width: 0;}#sk-container-id-1 div.sk-dashed-wrapped {border: 1px dashed gray;margin: 0 0.4em 0.5em 0.4em;box-sizing: border-box;padding-bottom: 0.4em;background-color: white;}#sk-container-id-1 div.sk-label label {font-family: monospace;font-weight: bold;display: inline-block;line-height: 1.2em;}#sk-container-id-1 div.sk-label-container {text-align: center;}#sk-container-id-1 div.sk-container {/* jupyter's `normalize.less` sets `[hidden] { display: none; }` but bootstrap.min.css set `[hidden] { display: none !important; }` so we also need the `!important` here to be able to override the default hidden behavior on the sphinx rendered scikit-learn.org. See: https://github.com/scikit-learn/scikit-learn/issues/21755 */display: inline-block !important;position: relative;}#sk-container-id-1 div.sk-text-repr-fallback {display: none;}</style><div id=\"sk-container-id-1\" class=\"sk-top-container\"><div class=\"sk-text-repr-fallback\"><pre>RandomForestClassifier()</pre><b>In a Jupyter environment, please rerun this cell to show the HTML representation or trust the notebook. <br />On GitHub, the HTML representation is unable to render, please try loading this page with nbviewer.org.</b></div><div class=\"sk-container\" hidden><div class=\"sk-item\"><div class=\"sk-estimator sk-toggleable\"><input class=\"sk-toggleable__control sk-hidden--visually\" id=\"sk-estimator-id-1\" type=\"checkbox\" checked><label for=\"sk-estimator-id-1\" class=\"sk-toggleable__label sk-toggleable__label-arrow\">RandomForestClassifier</label><div class=\"sk-toggleable__content\"><pre>RandomForestClassifier()</pre></div></div></div></div></div>"
      ],
      "text/plain": [
       "RandomForestClassifier()"
      ]
     },
     "execution_count": 6,
     "metadata": {},
     "output_type": "execute_result"
    }
   ],
   "source": [
    "clf.fit(x_data, y_data)"
   ]
  },
  {
   "cell_type": "code",
   "execution_count": null,
   "id": "exterior-syria",
   "metadata": {
    "papermill": {
     "duration": 0.005093,
     "end_time": "2022-07-02T17:07:22.089681",
     "exception": false,
     "start_time": "2022-07-02T17:07:22.084588",
     "status": "completed"
    },
    "tags": []
   },
   "outputs": [],
   "source": []
  }
 ],
 "metadata": {
  "kernelspec": {
   "display_name": "Python 3.10.0 64-bit",
   "language": "python",
   "name": "python3"
  },
  "language_info": {
   "codemirror_mode": {
    "name": "ipython",
    "version": 3
   },
   "file_extension": ".py",
   "mimetype": "text/x-python",
   "name": "python",
   "nbconvert_exporter": "python",
   "pygments_lexer": "ipython3",
   "version": "3.10.0"
  },
  "papermill": {
   "default_parameters": {},
   "duration": 48.061583,
   "end_time": "2022-07-02T17:07:22.701741",
   "environment_variables": {},
   "exception": null,
   "input_path": "/home/jovyan/random_forest_model.ipynb",
   "output_path": "/home/jovyan/random_forest_model.ipynb",
   "parameters": {},
   "start_time": "2022-07-02T17:06:34.640158",
   "version": "2.3.3"
  },
  "vscode": {
   "interpreter": {
    "hash": "4ba3bdfc9cabfb39c224c1aca23919476133c165e34e27a288d907cb258ba46b"
   }
  }
 },
 "nbformat": 4,
 "nbformat_minor": 5
}
