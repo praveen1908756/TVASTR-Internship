{
 "cells": [
  {
   "cell_type": "code",
   "execution_count": 1,
   "id": "closed-clearance",
   "metadata": {
    "execution": {
     "iopub.execute_input": "2022-07-02T17:06:32.684680Z",
     "iopub.status.busy": "2022-07-02T17:06:32.683474Z",
     "iopub.status.idle": "2022-07-02T17:06:32.897975Z",
     "shell.execute_reply": "2022-07-02T17:06:32.897472Z"
    },
    "papermill": {
     "duration": 0.2263,
     "end_time": "2022-07-02T17:06:32.898091",
     "exception": false,
     "start_time": "2022-07-02T17:06:32.671791",
     "status": "completed"
    },
    "tags": []
   },
   "outputs": [],
   "source": [
    "import import_ipynb\n",
    "import load_data"
   ]
  },
  {
   "cell_type": "code",
   "execution_count": 2,
   "id": "palestinian-metro",
   "metadata": {
    "execution": {
     "iopub.execute_input": "2022-07-02T17:06:32.990543Z",
     "iopub.status.busy": "2022-07-02T17:06:32.989907Z",
     "iopub.status.idle": "2022-07-02T17:06:33.116668Z",
     "shell.execute_reply": "2022-07-02T17:06:33.117031Z"
    },
    "papermill": {
     "duration": 0.215103,
     "end_time": "2022-07-02T17:06:33.117170",
     "exception": false,
     "start_time": "2022-07-02T17:06:32.902067",
     "status": "completed"
    },
    "tags": []
   },
   "outputs": [],
   "source": [
    "for i in range(len(load_data.data_weight)):\n",
    "    load_data.data_weight[i] = int(load_data.data_weight[i].strip())"
   ]
  },
  {
   "cell_type": "code",
   "execution_count": 4,
   "id": "endangered-saying",
   "metadata": {
    "execution": {
     "iopub.execute_input": "2022-07-02T17:06:33.216105Z",
     "iopub.status.busy": "2022-07-02T17:06:33.185334Z",
     "iopub.status.idle": "2022-07-02T17:06:33.313168Z",
     "shell.execute_reply": "2022-07-02T17:06:33.313555Z"
    },
    "papermill": {
     "duration": 0.192871,
     "end_time": "2022-07-02T17:06:33.313714",
     "exception": false,
     "start_time": "2022-07-02T17:06:33.120843",
     "status": "completed"
    },
    "tags": []
   },
   "outputs": [],
   "source": [
    "for i in range(len(load_data.l)):\n",
    "   load_data.l[i] = int(load_data.l[i].strip())"
   ]
  },
  {
   "cell_type": "code",
   "execution_count": 14,
   "id": "tamil-coast",
   "metadata": {
    "execution": {
     "iopub.execute_input": "2022-07-02T17:06:33.406062Z",
     "iopub.status.busy": "2022-07-02T17:06:33.380203Z",
     "iopub.status.idle": "2022-07-02T17:06:34.309749Z",
     "shell.execute_reply": "2022-07-02T17:06:34.309339Z"
    },
    "papermill": {
     "duration": 0.992556,
     "end_time": "2022-07-02T17:06:34.309889",
     "exception": false,
     "start_time": "2022-07-02T17:06:33.317333",
     "status": "completed"
    },
    "tags": []
   },
   "outputs": [],
   "source": [
    "lines = []\n",
    "for i in range(0,len(load_data.l)-10):\n",
    "    line = [int(num) for num in load_data.l[i:i + 11]]\n",
    "    lines.append(line)"
   ]
  },
  {
   "cell_type": "code",
   "execution_count": null,
   "id": "growing-junction",
   "metadata": {
    "papermill": {
     "duration": 0.003395,
     "end_time": "2022-07-02T17:06:34.317277",
     "exception": false,
     "start_time": "2022-07-02T17:06:34.313882",
     "status": "completed"
    },
    "tags": []
   },
   "outputs": [],
   "source": []
  }
 ],
 "metadata": {
  "kernelspec": {
   "display_name": "Python 3.10.0 64-bit",
   "language": "python",
   "name": "python3"
  },
  "language_info": {
   "codemirror_mode": {
    "name": "ipython",
    "version": 3
   },
   "file_extension": ".py",
   "mimetype": "text/x-python",
   "name": "python",
   "nbconvert_exporter": "python",
   "pygments_lexer": "ipython3",
   "version": "3.10.0"
  },
  "papermill": {
   "default_parameters": {},
   "duration": 3.014261,
   "end_time": "2022-07-02T17:06:34.626257",
   "environment_variables": {},
   "exception": null,
   "input_path": "/home/jovyan/process_data.ipynb",
   "output_path": "/home/jovyan/process_data.ipynb",
   "parameters": {},
   "start_time": "2022-07-02T17:06:31.611996",
   "version": "2.3.3"
  },
  "vscode": {
   "interpreter": {
    "hash": "4ba3bdfc9cabfb39c224c1aca23919476133c165e34e27a288d907cb258ba46b"
   }
  }
 },
 "nbformat": 4,
 "nbformat_minor": 5
}
