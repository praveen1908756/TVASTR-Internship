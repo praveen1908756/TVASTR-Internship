{
 "cells": [
  {
   "cell_type": "code",
   "execution_count": 42,
   "metadata": {},
   "outputs": [],
   "source": [
    "# importing all necessary modules\n",
    "from nltk.tokenize import word_tokenize\n",
    "import warnings\n",
    "warnings.filterwarnings(action = 'ignore')\n",
    "import gensim\n",
    "import pandas as pd\n",
    "import re\n",
    "import matplotlib.pyplot as plt\n",
    "import scipy.cluster.hierarchy as shc\n",
    "from sklearn.preprocessing import normalize\n",
    "import pickle\n",
    "import pickle\n",
    "import gensim"
   ]
  },
  {
   "cell_type": "markdown",
   "metadata": {},
   "source": [
    "### INFERENCE"
   ]
  },
  {
   "cell_type": "code",
   "execution_count": 43,
   "metadata": {},
   "outputs": [],
   "source": [
    "# loading cluster\n",
    "with open('data/ac.pickle', 'rb') as f:\n",
    "    ac = pickle.load(f)"
   ]
  },
  {
   "cell_type": "code",
   "execution_count": 44,
   "metadata": {},
   "outputs": [],
   "source": [
    "# load model\n",
    "model = gensim.models.Word2Vec.load(\"data/CBOW_APP1.model\")"
   ]
  },
  {
   "cell_type": "code",
   "execution_count": 45,
   "metadata": {},
   "outputs": [],
   "source": [
    "# loading pca & scalar\n",
    "with open('data/pca.pickle', 'rb') as f:\n",
    "    pca = pickle.load(f)\n",
    "with open('data/scaler.pickle', 'rb') as f:\n",
    "    scaler = pickle.load(f)"
   ]
  },
  {
   "cell_type": "code",
   "execution_count": 46,
   "metadata": {},
   "outputs": [],
   "source": [
    "sample = open(\"data/preprocessed_logs_word_APP2.txt\")\n",
    "f = sample.readlines()\n",
    "\n",
    "# Replaces escape character with space\n",
    "# f = s.replace(\"\\n\", \" \")"
   ]
  },
  {
   "cell_type": "code",
   "execution_count": 47,
   "metadata": {},
   "outputs": [],
   "source": [
    "data = []\n",
    "# iterate through each sentence in the file\n",
    "for i in f:\n",
    "\ttemp = []\n",
    "\t# tokenize the sentence into words\n",
    "\tfor j in word_tokenize(i):\n",
    "\t\tif(not re.search('[+-]?([0-9]*[.])?[0-9]+', j.lower())):\n",
    "\t\t\ttemp.append(j.lower())\n",
    "\tdata.append(temp)"
   ]
  },
  {
   "cell_type": "code",
   "execution_count": 48,
   "metadata": {},
   "outputs": [],
   "source": [
    "new_data = []\n",
    "\n",
    "for i, sent in enumerate(data):\n",
    "    vector = [0]*100\n",
    "    for j, word in enumerate(sent):\n",
    "        try:\n",
    "            vector += model.wv[word]\n",
    "        except KeyError:\n",
    "            continue\n",
    "    new_data.append(vector)"
   ]
  },
  {
   "cell_type": "code",
   "execution_count": null,
   "metadata": {},
   "outputs": [],
   "source": [
    "# clustering\n",
    "vectors = new_data\n",
    "\n",
    "X_scaled = scaler.transform(vectors)\n",
    "X_normalized = normalize(X_scaled)\n",
    "X_normalized = pd.DataFrame(X_normalized)\n",
    "\n",
    "X_principal = pca.transform(X_normalized)\n",
    "X_principal = pd.DataFrame(X_principal)\n",
    "X_principal.columns = ['P1', 'P2']\n",
    "\n",
    "plt.figure(figsize =(8, 8), facecolor='w')\n",
    "plt.title('Visualising the data')\n",
    "Dendrogram = shc.dendrogram((shc.linkage(X_principal, method ='ward')))"
   ]
  },
  {
   "cell_type": "code",
   "execution_count": 49,
   "metadata": {},
   "outputs": [
    {
     "data": {
      "image/png": "[encoded data removed]",
      "text/plain": [
       "<Figure size 432x432 with 1 Axes>"
      ]
     },
     "metadata": {},
     "output_type": "display_data"
    }
   ],
   "source": [
    "plt.figure(figsize =(6, 6), facecolor='w')\n",
    "plt.scatter(X_principal['P1'], X_principal['P2'],\n",
    "            c = ac.predict(X_principal), cmap ='rainbow')\n",
    "plt.show()"
   ]
  },
  {
   "cell_type": "code",
   "execution_count": 50,
   "metadata": {},
   "outputs": [],
   "source": [
    "with open('data/x_of_app2.pickle', 'wb') as f:\n",
    "    pickle.dump(X_principal, f)"
   ]
  },
  {
   "cell_type": "code",
   "execution_count": 40,
   "metadata": {},
   "outputs": [
    {
     "data": {
      "text/html": [
       "<div>\n",
       "<style scoped>\n",
       "    .dataframe tbody tr th:only-of-type {\n",
       "        vertical-align: middle;\n",
       "    }\n",
       "\n",
       "    .dataframe tbody tr th {\n",
       "        vertical-align: top;\n",
       "    }\n",
       "\n",
       "    .dataframe thead th {\n",
       "        text-align: right;\n",
       "    }\n",
       "</style>\n",
       "<table border=\"1\" class=\"dataframe\">\n",
       "  <thead>\n",
       "    <tr style=\"text-align: right;\">\n",
       "      <th></th>\n",
       "      <th>P1</th>\n",
       "      <th>P2</th>\n",
       "    </tr>\n",
       "  </thead>\n",
       "  <tbody>\n",
       "    <tr>\n",
       "      <th>0</th>\n",
       "      <td>-0.216523</td>\n",
       "      <td>-0.640313</td>\n",
       "    </tr>\n",
       "    <tr>\n",
       "      <th>1</th>\n",
       "      <td>1.057415</td>\n",
       "      <td>0.183130</td>\n",
       "    </tr>\n",
       "    <tr>\n",
       "      <th>2</th>\n",
       "      <td>1.057415</td>\n",
       "      <td>0.183130</td>\n",
       "    </tr>\n",
       "    <tr>\n",
       "      <th>3</th>\n",
       "      <td>-0.370099</td>\n",
       "      <td>-0.676706</td>\n",
       "    </tr>\n",
       "    <tr>\n",
       "      <th>4</th>\n",
       "      <td>1.057415</td>\n",
       "      <td>0.183130</td>\n",
       "    </tr>\n",
       "    <tr>\n",
       "      <th>...</th>\n",
       "      <td>...</td>\n",
       "      <td>...</td>\n",
       "    </tr>\n",
       "    <tr>\n",
       "      <th>306180</th>\n",
       "      <td>-0.626196</td>\n",
       "      <td>0.770576</td>\n",
       "    </tr>\n",
       "    <tr>\n",
       "      <th>306181</th>\n",
       "      <td>-0.370099</td>\n",
       "      <td>-0.676706</td>\n",
       "    </tr>\n",
       "    <tr>\n",
       "      <th>306182</th>\n",
       "      <td>-0.626196</td>\n",
       "      <td>0.770576</td>\n",
       "    </tr>\n",
       "    <tr>\n",
       "      <th>306183</th>\n",
       "      <td>-0.626196</td>\n",
       "      <td>0.770576</td>\n",
       "    </tr>\n",
       "    <tr>\n",
       "      <th>306184</th>\n",
       "      <td>-0.370099</td>\n",
       "      <td>-0.676706</td>\n",
       "    </tr>\n",
       "  </tbody>\n",
       "</table>\n",
       "<p>306185 rows × 2 columns</p>\n",
       "</div>"
      ],
      "text/plain": [
       "              P1        P2\n",
       "0      -0.216523 -0.640313\n",
       "1       1.057415  0.183130\n",
       "2       1.057415  0.183130\n",
       "3      -0.370099 -0.676706\n",
       "4       1.057415  0.183130\n",
       "...          ...       ...\n",
       "306180 -0.626196  0.770576\n",
       "306181 -0.370099 -0.676706\n",
       "306182 -0.626196  0.770576\n",
       "306183 -0.626196  0.770576\n",
       "306184 -0.370099 -0.676706\n",
       "\n",
       "[306185 rows x 2 columns]"
      ]
     },
     "execution_count": 40,
     "metadata": {},
     "output_type": "execute_result"
    }
   ],
   "source": [
    "with open('data/x_of_app1.pickle', 'rb') as f:\n",
    "    x_app1 = pickle.load(f)\n",
    "x_app1"
   ]
  },
  {
   "cell_type": "code",
   "execution_count": 41,
   "metadata": {},
   "outputs": [
    {
     "data": {
      "text/html": [
       "<div>\n",
       "<style scoped>\n",
       "    .dataframe tbody tr th:only-of-type {\n",
       "        vertical-align: middle;\n",
       "    }\n",
       "\n",
       "    .dataframe tbody tr th {\n",
       "        vertical-align: top;\n",
       "    }\n",
       "\n",
       "    .dataframe thead th {\n",
       "        text-align: right;\n",
       "    }\n",
       "</style>\n",
       "<table border=\"1\" class=\"dataframe\">\n",
       "  <thead>\n",
       "    <tr style=\"text-align: right;\">\n",
       "      <th></th>\n",
       "      <th>P1</th>\n",
       "      <th>P2</th>\n",
       "    </tr>\n",
       "  </thead>\n",
       "  <tbody>\n",
       "    <tr>\n",
       "      <th>0</th>\n",
       "      <td>-0.131825</td>\n",
       "      <td>0.655767</td>\n",
       "    </tr>\n",
       "    <tr>\n",
       "      <th>1</th>\n",
       "      <td>0.994918</td>\n",
       "      <td>-0.326739</td>\n",
       "    </tr>\n",
       "    <tr>\n",
       "      <th>2</th>\n",
       "      <td>-0.194460</td>\n",
       "      <td>0.759649</td>\n",
       "    </tr>\n",
       "    <tr>\n",
       "      <th>3</th>\n",
       "      <td>-0.750851</td>\n",
       "      <td>-0.663016</td>\n",
       "    </tr>\n",
       "    <tr>\n",
       "      <th>4</th>\n",
       "      <td>-0.194460</td>\n",
       "      <td>0.759649</td>\n",
       "    </tr>\n",
       "    <tr>\n",
       "      <th>...</th>\n",
       "      <td>...</td>\n",
       "      <td>...</td>\n",
       "    </tr>\n",
       "    <tr>\n",
       "      <th>195655</th>\n",
       "      <td>-0.194460</td>\n",
       "      <td>0.759649</td>\n",
       "    </tr>\n",
       "    <tr>\n",
       "      <th>195656</th>\n",
       "      <td>0.994918</td>\n",
       "      <td>-0.326739</td>\n",
       "    </tr>\n",
       "    <tr>\n",
       "      <th>195657</th>\n",
       "      <td>-0.194460</td>\n",
       "      <td>0.759649</td>\n",
       "    </tr>\n",
       "    <tr>\n",
       "      <th>195658</th>\n",
       "      <td>-0.194460</td>\n",
       "      <td>0.759649</td>\n",
       "    </tr>\n",
       "    <tr>\n",
       "      <th>195659</th>\n",
       "      <td>-0.194460</td>\n",
       "      <td>0.759649</td>\n",
       "    </tr>\n",
       "  </tbody>\n",
       "</table>\n",
       "<p>195660 rows × 2 columns</p>\n",
       "</div>"
      ],
      "text/plain": [
       "              P1        P2\n",
       "0      -0.131825  0.655767\n",
       "1       0.994918 -0.326739\n",
       "2      -0.194460  0.759649\n",
       "3      -0.750851 -0.663016\n",
       "4      -0.194460  0.759649\n",
       "...          ...       ...\n",
       "195655 -0.194460  0.759649\n",
       "195656  0.994918 -0.326739\n",
       "195657 -0.194460  0.759649\n",
       "195658 -0.194460  0.759649\n",
       "195659 -0.194460  0.759649\n",
       "\n",
       "[195660 rows x 2 columns]"
      ]
     },
     "execution_count": 41,
     "metadata": {},
     "output_type": "execute_result"
    }
   ],
   "source": [
    "with open('data/x_of_app2.pickle', 'rb') as f:\n",
    "    x_app2 = pickle.load(f)\n",
    "x_app2"
   ]
  },
  {
   "cell_type": "code",
   "execution_count": 14,
   "metadata": {},
   "outputs": [],
   "source": [
    "x_app = pd.concat([x_app1, x_app2], ignore_index=True)"
   ]
  },
  {
   "cell_type": "code",
   "execution_count": 15,
   "metadata": {},
   "outputs": [
    {
     "data": {
      "text/plain": [
       "50"
      ]
     },
     "execution_count": 15,
     "metadata": {},
     "output_type": "execute_result"
    }
   ],
   "source": [
    "x_app.drop_duplicates().shape[0]"
   ]
  },
  {
   "cell_type": "code",
   "execution_count": 16,
   "metadata": {},
   "outputs": [
    {
     "data": {
      "image/png": "[encoded data removed]",
      "text/plain": [
       "<Figure size 432x432 with 1 Axes>"
      ]
     },
     "metadata": {},
     "output_type": "display_data"
    }
   ],
   "source": [
    "plt.figure(figsize =(6, 6), facecolor='w')\n",
    "plt.scatter(x_app1['P1'], x_app1['P2'], cmap ='rainbow')\n",
    "plt.show()"
   ]
  },
  {
   "cell_type": "code",
   "execution_count": 17,
   "metadata": {},
   "outputs": [
    {
     "data": {
      "image/png": "[encoded data removed]",
      "text/plain": [
       "<Figure size 432x432 with 1 Axes>"
      ]
     },
     "metadata": {},
     "output_type": "display_data"
    }
   ],
   "source": [
    "plt.figure(figsize =(6, 6), facecolor='w')\n",
    "plt.scatter(x_app2['P1'], x_app2['P2'], cmap ='rainbow')\n",
    "plt.show()"
   ]
  },
  {
   "cell_type": "code",
   "execution_count": 18,
   "metadata": {},
   "outputs": [
    {
     "data": {
      "text/plain": [
       "(25, 24)"
      ]
     },
     "execution_count": 18,
     "metadata": {},
     "output_type": "execute_result"
    }
   ],
   "source": [
    "len(x_app1['P1'].unique()), len(x_app2['P1'].unique())"
   ]
  },
  {
   "cell_type": "code",
   "execution_count": 19,
   "metadata": {},
   "outputs": [
    {
     "data": {
      "text/plain": [
       "(26, 24)"
      ]
     },
     "execution_count": 19,
     "metadata": {},
     "output_type": "execute_result"
    }
   ],
   "source": [
    "len(x_app1['P2'].unique()), len(x_app2['P2'].unique())"
   ]
  }
 ],
 "metadata": {
  "interpreter": {
   "hash": "4ba3bdfc9cabfb39c224c1aca23919476133c165e34e27a288d907cb258ba46b"
  },
  "kernelspec": {
   "display_name": "Python 3.10.0 64-bit",
   "language": "python",
   "name": "python3"
  },
  "language_info": {
   "codemirror_mode": {
    "name": "ipython",
    "version": 3
   },
   "file_extension": ".py",
   "mimetype": "text/x-python",
   "name": "python",
   "nbconvert_exporter": "python",
   "pygments_lexer": "ipython3",
   "version": "3.10.0"
  },
  "orig_nbformat": 4
 },
 "nbformat": 4,
 "nbformat_minor": 2
}
